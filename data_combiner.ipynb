{
 "cells": [
  {
   "cell_type": "code",
   "execution_count": 1,
   "id": "9b231f6d",
   "metadata": {},
   "outputs": [
    {
     "ename": "NotADirectoryError",
     "evalue": "[WinError 267] The directory name is invalid: 'scraping/genre_csvs'",
     "output_type": "error",
     "traceback": [
      "\u001b[31m---------------------------------------------------------------------------\u001b[39m",
      "\u001b[31mNotADirectoryError\u001b[39m                        Traceback (most recent call last)",
      "\u001b[36mCell\u001b[39m\u001b[36m \u001b[39m\u001b[32mIn[1]\u001b[39m\u001b[32m, line 8\u001b[39m\n\u001b[32m      5\u001b[39m csv_folder = \u001b[33m'\u001b[39m\u001b[33mscraping/genre_csvs\u001b[39m\u001b[33m'\u001b[39m\n\u001b[32m      7\u001b[39m \u001b[38;5;66;03m# Get all CSV file names in the folder\u001b[39;00m\n\u001b[32m----> \u001b[39m\u001b[32m8\u001b[39m csv_files = [file \u001b[38;5;28;01mfor\u001b[39;00m file \u001b[38;5;129;01min\u001b[39;00m \u001b[43mos\u001b[49m\u001b[43m.\u001b[49m\u001b[43mlistdir\u001b[49m\u001b[43m(\u001b[49m\u001b[43mcsv_folder\u001b[49m\u001b[43m)\u001b[49m \u001b[38;5;28;01mif\u001b[39;00m file.endswith(\u001b[33m'\u001b[39m\u001b[33m.csv\u001b[39m\u001b[33m'\u001b[39m)]\n\u001b[32m     10\u001b[39m \u001b[38;5;66;03m# Initialize an empty list to hold DataFrames\u001b[39;00m\n\u001b[32m     11\u001b[39m all_dataframes = []\n",
      "\u001b[31mNotADirectoryError\u001b[39m: [WinError 267] The directory name is invalid: 'scraping/genre_csvs'"
     ]
    }
   ],
   "source": [
    "import pandas as pd\n",
    "import os\n",
    "\n",
    "# Path to the folder containing genre-wise CSVs\n",
    "csv_folder = 'scraping/genre_csvs'\n",
    "\n",
    "# Get all CSV file names in the folder\n",
    "csv_files = [file for file in os.listdir(csv_folder) if file.endswith('.csv')]\n",
    "\n",
    "# Initialize an empty list to hold DataFrames\n",
    "all_dataframes = []\n",
    "\n",
    "# Load and append each genre file\n",
    "for file in csv_files:\n",
    "    df = pd.read_csv(os.path.join(csv_folder, file))\n",
    "    all_dataframes.append(df)\n",
    "\n",
    "# Combine all genre data into a single DataFrame\n",
    "combined_df = pd.concat(all_dataframes, ignore_index=True)\n",
    "\n",
    "# 🧹 Clean the data\n",
    "# Convert Rating to float\n",
    "combined_df['Rating'] = pd.to_numeric(combined_df['Rating'], errors='coerce')\n",
    "\n",
    "# Convert Votes to integer (remove commas)\n",
    "combined_df['Votes'] = combined_df['Votes'].str.replace(',', '')\n",
    "combined_df['Votes'] = pd.to_numeric(combined_df['Votes'], errors='coerce')\n",
    "\n",
    "# Convert Duration to integer (extract digits only)\n",
    "# Example input: \"2h 15m\" or \"120 min\"\n",
    "def parse_duration(text):\n",
    "    try:\n",
    "        if 'h' in text:\n",
    "            parts = text.lower().replace('m', '').split('h')\n",
    "            hours = int(parts[0].strip())\n",
    "            minutes = int(parts[1].strip()) if parts[1].strip().isdigit() else 0\n",
    "            return hours * 60 + minutes\n",
    "        else:\n",
    "            return int(text.strip().split()[0])  # e.g., \"120 min\"\n",
    "    except:\n",
    "        return None\n",
    "\n",
    "combined_df['Duration'] = combined_df['Duration'].apply(parse_duration)\n",
    "\n",
    "# Drop rows with missing values in critical columns\n",
    "combined_df.dropna(subset=['Title', 'Rating', 'Votes', 'Duration'], inplace=True)\n",
    "\n",
    "# Reset index after cleaning\n",
    "combined_df.reset_index(drop=True, inplace=True)\n",
    "\n",
    "# 💾 Save the cleaned data\n",
    "combined_csv_path = 'scraping/all_genres_combined.csv'\n",
    "combined_df.to_csv(combined_csv_path, index=False)\n",
    "print(f\"✅ Combined and cleaned data saved to: {combined_csv_path}\")\n",
    "print(f\"Total records: {len(combined_df)}\")\n"
   ]
  }
 ],
 "metadata": {
  "kernelspec": {
   "display_name": "venv",
   "language": "python",
   "name": "python3"
  },
  "language_info": {
   "codemirror_mode": {
    "name": "ipython",
    "version": 3
   },
   "file_extension": ".py",
   "mimetype": "text/x-python",
   "name": "python",
   "nbconvert_exporter": "python",
   "pygments_lexer": "ipython3",
   "version": "3.13.3"
  }
 },
 "nbformat": 4,
 "nbformat_minor": 5
}
