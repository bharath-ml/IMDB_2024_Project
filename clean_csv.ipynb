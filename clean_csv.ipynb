{
 "cells": [
  {
   "cell_type": "code",
   "execution_count": 25,
   "id": "b53387b2",
   "metadata": {},
   "outputs": [
    {
     "name": "stdout",
     "output_type": "stream",
     "text": [
      "✅ Cleaned data saved to: scraping/scraping/imdb_2024_all_movies_cleaned.csv\n",
      "                      Title  Rating   Votes  Duration   Genre\n",
      "0     1. The Unholy Trinity     6.2     294        95  Action\n",
      "1           2. Gladiator II     6.5  250000       148  Action\n",
      "2         3. Dune: Part Two     8.5  640000       166  Action\n",
      "3  4. Venom: The Last Dance     6.0  128000       110  Action\n",
      "4          5. The Beekeeper     6.3  161000       105  Action\n"
     ]
    }
   ],
   "source": [
    "import pandas as pd\n",
    "import re\n",
    "\n",
    "# Sample path to your CSV file\n",
    "input_path = \"scraping/scraping/imdb_2024_all_movies.csv\"\n",
    "output_path = \"scraping/scraping/imdb_2024_all_movies_cleaned.csv\"\n",
    "\n",
    "# Read the CSV file\n",
    "df = pd.read_csv(input_path)\n",
    "\n",
    "# Clean Title\n",
    "df['Title'] = df['Title'].astype(str).str.strip().str.replace('\\n', '', regex=True)\n",
    "\n",
    "# Clean Rating\n",
    "df['Rating'] = pd.to_numeric(df['Rating'], errors='coerce')\n",
    "\n",
    "# Clean Votes (remove parens, 'k', commas, etc.)\n",
    "def clean_votes(v):\n",
    "    v = str(v).strip().replace(\"(\", \"\").replace(\")\", \"\").lower()\n",
    "    if 'k' in v:\n",
    "        try:\n",
    "            return int(float(v.replace('k', '')) * 1000)\n",
    "        except:\n",
    "            return pd.NA\n",
    "    try:\n",
    "        return int(v)\n",
    "    except:\n",
    "        return pd.NA\n",
    "\n",
    "df['Votes'] = df['Votes'].apply(clean_votes).astype('Int64')\n",
    "\n",
    "# Clean Duration (convert to minutes)\n",
    "def convert_duration_to_minutes(duration):\n",
    "    try:\n",
    "        h = re.search(r'(\\d+)h', duration)\n",
    "        m = re.search(r'(\\d+)m', duration)\n",
    "        total_minutes = 0\n",
    "        if h:\n",
    "            total_minutes += int(h.group(1)) * 60\n",
    "        if m:\n",
    "            total_minutes += int(m.group(1))\n",
    "        return total_minutes if total_minutes > 0 else pd.NA\n",
    "    except:\n",
    "        return pd.NA\n",
    "\n",
    "df['Duration'] = df['Duration'].astype(str).apply(convert_duration_to_minutes).astype('Int64')\n",
    "\n",
    "# Clean Genre (title case)\n",
    "df['Genre'] = df['Genre'].astype(str).str.strip().str.capitalize()\n",
    "\n",
    "# Drop any rows missing essential info\n",
    "df = df.dropna(subset=['Title', 'Rating', 'Votes', 'Duration', 'Genre'])\n",
    "\n",
    "# Save to cleaned CSV\n",
    "df.to_csv(output_path, index=False)\n",
    "print(f\"✅ Cleaned data saved to: {output_path}\")\n",
    "print(df.head())\n"
   ]
  }
 ],
 "metadata": {
  "kernelspec": {
   "display_name": "venv",
   "language": "python",
   "name": "python3"
  },
  "language_info": {
   "codemirror_mode": {
    "name": "ipython",
    "version": 3
   },
   "file_extension": ".py",
   "mimetype": "text/x-python",
   "name": "python",
   "nbconvert_exporter": "python",
   "pygments_lexer": "ipython3",
   "version": "3.13.3"
  }
 },
 "nbformat": 4,
 "nbformat_minor": 5
}
